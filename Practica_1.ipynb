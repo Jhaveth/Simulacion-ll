{
  "nbformat": 4,
  "nbformat_minor": 0,
  "metadata": {
    "colab": {
      "provenance": [],
      "include_colab_link": true
    },
    "kernelspec": {
      "name": "python3",
      "display_name": "Python 3"
    },
    "language_info": {
      "name": "python"
    }
  },
  "cells": [
    {
      "cell_type": "markdown",
      "metadata": {
        "id": "view-in-github",
        "colab_type": "text"
      },
      "source": [
        "<a href=\"https://colab.research.google.com/github/Jhaveth/Simulacion-ll/blob/main/Practica_1.ipynb\" target=\"_parent\"><img src=\"https://colab.research.google.com/assets/colab-badge.svg\" alt=\"Open In Colab\"/></a>"
      ]
    },
    {
      "cell_type": "markdown",
      "source": [
        "### **PRUEBAS**"
      ],
      "metadata": {
        "id": "iGIs4BEm4E7C"
      }
    },
    {
      "cell_type": "code",
      "execution_count": null,
      "metadata": {
        "id": "faamCRYLHoNC"
      },
      "outputs": [],
      "source": [
        "import math\n",
        "from scipy.stats import norm\n",
        "from scipy.stats import chi2\n",
        "import os, sys\n",
        "import random"
      ]
    },
    {
      "cell_type": "markdown",
      "source": [
        "## **Datos y Nivel de confianza**"
      ],
      "metadata": {
        "id": "vVmdNnqLRWmc"
      }
    },
    {
      "cell_type": "code",
      "source": [
        "datos =[random.random() for _ in range(100)]\n",
        "Nivel_confianza=95"
      ],
      "metadata": {
        "id": "4T73px8nQU2L"
      },
      "execution_count": null,
      "outputs": []
    },
    {
      "cell_type": "markdown",
      "source": [
        "## PRUEBA DE MEDIAS"
      ],
      "metadata": {
        "id": "v7--FwGpORxO"
      }
    },
    {
      "cell_type": "code",
      "source": [
        "def media(X):\n",
        "  return  sum(X)/len(X)\n",
        "def z(alpha):\n",
        "  alpha_limite = 1 - alpha + alpha/2\n",
        "  z= norm.ppf(alpha_limite, loc=0, scale=1)\n",
        "  return z\n",
        "  \n",
        "def limite_inferior_me(alpha,n):\n",
        "   return 0.5 - z(alpha) *(1/math.sqrt(12*n))\n",
        "def limite_superior_me(alpha,n):\n",
        "   return 0.5 + z(alpha) *(1/math.sqrt(12*n))\n",
        "def prueba_media(alpha,X):\n",
        "  me_x = media(X)\n",
        "  li_me = limite_inferior_me(alpha, len(X))\n",
        "  print(f\"Limite inferior de la media: {li_me} \")\n",
        "  ls_me = limite_superior_me(alpha, len(X))\n",
        "  print(f\"Limite superior de la media: {ls_me} \")\n",
        "  if li_me <= me_x <= ls_me:\n",
        "    print(f\"El valor de la media = {me_x} \")\n",
        "    print(f\"Se encuentra en los limites de aceptación\")\n",
        "  else:\n",
        "    print(f\"El valor de la media = {me_x}\")\n",
        "    print(f\"No se encuentra en los limites de aceptación\")\n",
        "\n",
        "if __name__==\"__main__\":\n",
        "  X=datos\n",
        "  alpha= 1 - (Nivel_confianza/100)\n",
        "prueba_media(alpha,X)"
      ],
      "metadata": {
        "colab": {
          "base_uri": "https://localhost:8080/"
        },
        "id": "6o-PombGKKxt",
        "outputId": "940aa75e-28b1-48b7-8a61-bd0edc1a8715"
      },
      "execution_count": null,
      "outputs": [
        {
          "output_type": "stream",
          "name": "stdout",
          "text": [
            "Limite inferior de la media: 0.4434207132961914 \n",
            "Limite superior de la media: 0.5565792867038086 \n",
            "El valor de la media = 0.5183850199048092 \n",
            "Se encuentra en los limites de aceptación\n"
          ]
        }
      ]
    },
    {
      "cell_type": "markdown",
      "source": [
        "## PRUEBA DE VARIANZA"
      ],
      "metadata": {
        "id": "GAhO9xPpONqO"
      }
    },
    {
      "cell_type": "code",
      "source": [
        "def varianza(X):\n",
        "  me=media(X)\n",
        "  acumulado=0\n",
        "  for x in X:\n",
        "     acumulado += (x-me)**2\n",
        "  return acumulado / (len(X)-1)\n",
        "\n",
        "def limite_inferior_varianza(alpha, n):\n",
        "  chi_cuadrada=chi2.ppf(alpha/2, n-1)\n",
        "  return chi_cuadrada/(12*(n-1))\n",
        "\n",
        "def limite_superior_varianza(alpha, n):\n",
        "  chi_cuadrada=chi2.ppf(1-(alpha/2), n-1)\n",
        "  return chi_cuadrada/(12*(n-1))\n",
        "\n",
        "def prueba_varianza(alpha,X):\n",
        "  var_x=varianza(X)\n",
        "  li_varianza=limite_inferior_varianza(alpha, len(X))\n",
        "  print(f\"Limite inferior de la varianza: {li_varianza} \")\n",
        "  ls_varianza=limite_superior_varianza(alpha, len(X))\n",
        "  print(f\"Limite superior de la varianza: {ls_varianza} \")\n",
        "  if li_varianza <= var_x <= ls_varianza:\n",
        "    print(f\"El valor de la varianza = {var_x} \")\n",
        "    print(f\"Se encuentra en los limites de aceptación\")\n",
        "  else:\n",
        "    print(f\"El valor de la varianza = {var_x}\")\n",
        "    print(f\"No se encuentra en los limites de aceptación\")\n",
        "\n",
        "\n",
        "prueba_varianza(alpha,X)"
      ],
      "metadata": {
        "colab": {
          "base_uri": "https://localhost:8080/"
        },
        "id": "ioOUUDBKSDrV",
        "outputId": "a3f4323c-6621-481f-a49d-1a59d0aae82a"
      },
      "execution_count": null,
      "outputs": [
        {
          "output_type": "stream",
          "name": "stdout",
          "text": [
            "Limite inferior de la varianza: 0.06175175100276404 \n",
            "Limite superior de la varianza: 0.10809931704026962 \n",
            "El valor de la varianza = 0.09106291613069491 \n",
            "Se encuentra en los limites de aceptación\n"
          ]
        }
      ]
    },
    {
      "cell_type": "markdown",
      "source": [
        "## PRUEBA JI-CUADRADA"
      ],
      "metadata": {
        "id": "fYbWUSsNqkeR"
      }
    },
    {
      "cell_type": "code",
      "source": [
        "class  ChiCuadrado ( object ):\n",
        "  def __init__(self, valores):\n",
        "        self.valores = valores\n",
        "        self.n = valores.__len__()\n",
        "        self.m = math.sqrt(self.n)\n",
        "        self.rango_menor = list({})\n",
        "        self.rango_mayor = list({})\n",
        "        self.fo = list({})\n",
        "        self.cuadrados = list({})\n",
        "\n",
        "        self.sum_fo = 0\n",
        "        self.sum_cuadrados = 0\n",
        "\n",
        "        self.fe = int((self.n) / math.floor( math.sqrt(self.n)))\n",
        "\n",
        "  def start(self):\n",
        "        paso = round(1.0 / self.fe,2)\n",
        "        for i in range(self.fe):\n",
        "            if i == 0 :\n",
        "                self.rango_menor.append(0)\n",
        "            else:\n",
        "                self.rango_menor.append(self.rango_mayor[i-1])\n",
        "            self.rango_mayor.append( self.rango_menor[i] + paso )\n",
        "        self.rango_mayor[i] = 1.0 \n",
        "        self.iniciar_conteo()\n",
        "\n",
        "  def iniciar_conteo(self):\n",
        "        self.sum_fo = 0\n",
        "        self.sum_cuadrados = 0\n",
        "        for i in range(self.fe):\n",
        "            if i != (self.fe - 1):\n",
        "                self.fo.append( self.contar( self.rango_menor[i], self.rango_mayor[i], \">\" ) )\n",
        "            else:\n",
        "                self.fo.append( self.contar( self.rango_menor[i], self.rango_mayor[i], \"]\" ) )\n",
        "            self.cuadrados.append(math.pow(self.fe - self.fo[i],2)/self.fe)\n",
        "            self.sum_fo += self.fo[i]\n",
        "            self.sum_cuadrados += self.cuadrados[i]\n",
        "\n",
        "  def contar(self, rango_inferior, rango_superior, llave_derecha):\n",
        "        contador = 0\n",
        "        for i in range(self.n):\n",
        "            if llave_derecha == \">\":\n",
        "                if ( rango_inferior <= valores[i] ) and ( valores[i] < rango_superior ):\n",
        "                    contador += 1\n",
        "            elif llave_derecha == \"]\":\n",
        "                if ( rango_inferior <= valores[i] ) and ( valores[i] <= rango_superior ):\n",
        "                    contador += 1\n",
        "        return contador\n",
        "\n",
        "  def reporte(self):\n",
        "        str = ' {0:2s}| {1:14s}  |  {2:3s}|  {3:3s}|        |((FE-FO^2)/FE|'\n",
        "        print (str.format('i','rangos','FO','FE'))\n",
        "        for i in range(self.fe):\n",
        "            if i != (self.fe - 1 ) :\n",
        "                str = '{0:2d} | [ {1:1.2f} : {2:1.2f} > | {3:3d} | {4:3d} | {5:-6.2f}/{4:d} | {7:-3.2f}'\n",
        "            else :\n",
        "                str = '{0:2d} | [ {1:1.2f} : {2:1.2f} ] | {3:3d} | {4:3d} | {5:-6.2f}/{6:d} | {7:-3.2f}'\n",
        "            print (str.format(i+1,\n",
        "                                self.rango_menor[i],\n",
        "                                self.rango_mayor[i],\n",
        "                                self.fo[i],\n",
        "                                self.fe,\n",
        "                                math.pow(self.fo[i]-self.fe,2),self.fe,\n",
        "                                self.cuadrados[i]))\n",
        "        str = '{0:-26d} |{1:4d} | {2:-16.2f}'\n",
        "        print (str.format(self.sum_fo, int(self.m)*self.fe, self.sum_cuadrados))\n",
        "\n",
        "\n",
        "if __name__ == \"__main__\":\n",
        "    f =X\n",
        "    valores = f\n",
        "\n",
        "    test = ChiCuadrado(valores)\n",
        "    test.start()\n",
        "    \n",
        "    print (test.reporte())"
      ],
      "metadata": {
        "colab": {
          "base_uri": "https://localhost:8080/"
        },
        "id": "eE7UYKB24N0m",
        "outputId": "c83eef2e-2141-4380-9b92-6192efa76d62"
      },
      "execution_count": null,
      "outputs": [
        {
          "output_type": "stream",
          "name": "stdout",
          "text": [
            " i | rangos          |  FO |  FE |        |((FE-FO^2)/FE|\n",
            " 1 | [ 0.00 : 0.10 > |  15 |  10 |  25.00/10 | 2.50\n",
            " 2 | [ 0.10 : 0.20 > |   8 |  10 |   4.00/10 | 0.40\n",
            " 3 | [ 0.20 : 0.30 > |   3 |  10 |  49.00/10 | 4.90\n",
            " 4 | [ 0.30 : 0.40 > |   6 |  10 |  16.00/10 | 1.60\n",
            " 5 | [ 0.40 : 0.50 > |  14 |  10 |  16.00/10 | 1.60\n",
            " 6 | [ 0.50 : 0.60 > |  13 |  10 |   9.00/10 | 0.90\n",
            " 7 | [ 0.60 : 0.70 > |   7 |  10 |   9.00/10 | 0.90\n",
            " 8 | [ 0.70 : 0.80 > |   9 |  10 |   1.00/10 | 0.10\n",
            " 9 | [ 0.80 : 0.90 > |  15 |  10 |  25.00/10 | 2.50\n",
            "10 | [ 0.90 : 1.00 ] |  10 |  10 |   0.00/10 | 0.00\n",
            "                       100 | 100 |            15.40\n",
            "None\n"
          ]
        }
      ]
    },
    {
      "cell_type": "markdown",
      "source": [
        "## PRUEBA KOLMOGOROV-SMIRNOV"
      ],
      "metadata": {
        "id": "g1QHze4aqkvK"
      }
    },
    {
      "cell_type": "code",
      "source": [
        "class KolgomorovSmirnov(object):\n",
        "   def __init__(self, numeros):\n",
        "        self.numeros = numeros  # cada valor r[i]\n",
        "        self.n = self.numeros.__len__()\n",
        "        self.d_mas   = -1\n",
        "        self.d_menos = -1\n",
        "        self.d       = -1\n",
        "        self.start()\n",
        "   def ordenar_valores(self):\n",
        "        import sys,os\n",
        "        self.numeros\n",
        "      \n",
        "   def start(self):\n",
        "        self.ordenar_valores()\n",
        "        self.d_mas = self.calcular_d_mas()\n",
        "        self.d_menos = self.calcular_d_menos()\n",
        "        self.d = max(self.d_mas, self.d_menos)\n",
        "\n",
        "   def calcular_d_mas(self):\n",
        "        lista = list({})\n",
        "        for i in range(0, self.n): # desde 0 hasta n-1           \n",
        "            lista.append(((i+1.0)/self.n)-self.numeros[i])\n",
        "            print (\"%5.2f - %5.2f\" % (((i+1.0)/self.n), self.numeros[i]))\n",
        "        \n",
        "        return max(lista)\n",
        "\n",
        "   def calcular_d_menos(self):\n",
        "        lista = list({})\n",
        "        for i in range(0, self.n): # desdsde 0 hasta n-1\n",
        "            print (\"%5.2f - %5.2f\"%( self.numeros[i],((i*1.0)/self.n)))\n",
        "            lista.append( self.numeros[i]*1.0-((i*1.0)/self.n) ) # el algoritmo dice i-1 pero mi i comienza en 0\n",
        "        \n",
        "        return max(lista)\n",
        "\n",
        "   def __str__(self):\n",
        "        return \"n : {0:-5d}\\nD+: {1:-5.2f}\\nD-: {2:-5.2f}\\nD : {3:-5.2f}\".format(self.n,self.d_mas,self.d_menos,self.d)\n",
        "if __name__ == '__main__':\n",
        "    import sys,os\n",
        "    valores = X\n",
        "    ks = KolgomorovSmirnov(valores)\n",
        "    \n",
        "    print (ks)"
      ],
      "metadata": {
        "colab": {
          "base_uri": "https://localhost:8080/"
        },
        "id": "Zw-m6mPZP4rO",
        "outputId": "6279841f-8be5-4a6f-f6a2-e3cad6771b9e"
      },
      "execution_count": null,
      "outputs": [
        {
          "output_type": "stream",
          "name": "stdout",
          "text": [
            " 0.01 -  0.94\n",
            " 0.02 -  0.02\n",
            " 0.03 -  0.87\n",
            " 0.04 -  0.28\n",
            " 0.05 -  0.02\n",
            " 0.06 -  0.38\n",
            " 0.07 -  0.57\n",
            " 0.08 -  0.41\n",
            " 0.09 -  0.06\n",
            " 0.10 -  0.72\n",
            " 0.11 -  0.08\n",
            " 0.12 -  0.87\n",
            " 0.13 -  0.93\n",
            " 0.14 -  0.68\n",
            " 0.15 -  0.97\n",
            " 0.16 -  0.42\n",
            " 0.17 -  0.38\n",
            " 0.18 -  0.00\n",
            " 0.19 -  0.86\n",
            " 0.20 -  0.48\n",
            " 0.21 -  0.48\n",
            " 0.22 -  0.47\n",
            " 0.23 -  0.80\n",
            " 0.24 -  0.43\n",
            " 0.25 -  0.62\n",
            " 0.26 -  0.92\n",
            " 0.27 -  0.57\n",
            " 0.28 -  0.40\n",
            " 0.29 -  0.09\n",
            " 0.30 -  0.70\n",
            " 0.31 -  0.47\n",
            " 0.32 -  0.83\n",
            " 0.33 -  0.95\n",
            " 0.34 -  0.59\n",
            " 0.35 -  0.22\n",
            " 0.36 -  0.67\n",
            " 0.37 -  0.09\n",
            " 0.38 -  0.52\n",
            " 0.39 -  0.34\n",
            " 0.40 -  0.05\n",
            " 0.41 -  0.83\n",
            " 0.42 -  0.72\n",
            " 0.43 -  0.88\n",
            " 0.44 -  0.44\n",
            " 0.45 -  0.51\n",
            " 0.46 -  0.54\n",
            " 0.47 -  0.99\n",
            " 0.48 -  0.50\n",
            " 0.49 -  0.15\n",
            " 0.50 -  0.06\n",
            " 0.51 -  0.56\n",
            " 0.52 -  0.27\n",
            " 0.53 -  0.91\n",
            " 0.54 -  0.53\n",
            " 0.55 -  0.11\n",
            " 0.56 -  0.88\n",
            " 0.57 -  0.39\n",
            " 0.58 -  0.64\n",
            " 0.59 -  0.10\n",
            " 0.60 -  0.13\n",
            " 0.61 -  0.71\n",
            " 0.62 -  0.76\n",
            " 0.63 -  0.44\n",
            " 0.64 -  0.75\n",
            " 0.65 -  0.81\n",
            " 0.66 -  0.67\n",
            " 0.67 -  0.11\n",
            " 0.68 -  0.07\n",
            " 0.69 -  0.98\n",
            " 0.70 -  0.07\n",
            " 0.71 -  0.87\n",
            " 0.72 -  0.93\n",
            " 0.73 -  0.99\n",
            " 0.74 -  0.79\n",
            " 0.75 -  0.15\n",
            " 0.76 -  0.04\n",
            " 0.77 -  0.49\n",
            " 0.78 -  0.58\n",
            " 0.79 -  0.00\n",
            " 0.80 -  0.67\n",
            " 0.81 -  0.47\n",
            " 0.82 -  0.19\n",
            " 0.83 -  0.67\n",
            " 0.84 -  0.60\n",
            " 0.85 -  0.71\n",
            " 0.86 -  0.88\n",
            " 0.87 -  0.15\n",
            " 0.88 -  0.14\n",
            " 0.89 -  0.32\n",
            " 0.90 -  0.31\n",
            " 0.91 -  0.84\n",
            " 0.92 -  0.87\n",
            " 0.93 -  0.81\n",
            " 0.94 -  0.56\n",
            " 0.95 -  0.01\n",
            " 0.96 -  0.85\n",
            " 0.97 -  0.72\n",
            " 0.98 -  0.59\n",
            " 0.99 -  0.45\n",
            " 1.00 -  0.57\n",
            " 0.94 -  0.00\n",
            " 0.02 -  0.01\n",
            " 0.87 -  0.02\n",
            " 0.28 -  0.03\n",
            " 0.02 -  0.04\n",
            " 0.38 -  0.05\n",
            " 0.57 -  0.06\n",
            " 0.41 -  0.07\n",
            " 0.06 -  0.08\n",
            " 0.72 -  0.09\n",
            " 0.08 -  0.10\n",
            " 0.87 -  0.11\n",
            " 0.93 -  0.12\n",
            " 0.68 -  0.13\n",
            " 0.97 -  0.14\n",
            " 0.42 -  0.15\n",
            " 0.38 -  0.16\n",
            " 0.00 -  0.17\n",
            " 0.86 -  0.18\n",
            " 0.48 -  0.19\n",
            " 0.48 -  0.20\n",
            " 0.47 -  0.21\n",
            " 0.80 -  0.22\n",
            " 0.43 -  0.23\n",
            " 0.62 -  0.24\n",
            " 0.92 -  0.25\n",
            " 0.57 -  0.26\n",
            " 0.40 -  0.27\n",
            " 0.09 -  0.28\n",
            " 0.70 -  0.29\n",
            " 0.47 -  0.30\n",
            " 0.83 -  0.31\n",
            " 0.95 -  0.32\n",
            " 0.59 -  0.33\n",
            " 0.22 -  0.34\n",
            " 0.67 -  0.35\n",
            " 0.09 -  0.36\n",
            " 0.52 -  0.37\n",
            " 0.34 -  0.38\n",
            " 0.05 -  0.39\n",
            " 0.83 -  0.40\n",
            " 0.72 -  0.41\n",
            " 0.88 -  0.42\n",
            " 0.44 -  0.43\n",
            " 0.51 -  0.44\n",
            " 0.54 -  0.45\n",
            " 0.99 -  0.46\n",
            " 0.50 -  0.47\n",
            " 0.15 -  0.48\n",
            " 0.06 -  0.49\n",
            " 0.56 -  0.50\n",
            " 0.27 -  0.51\n",
            " 0.91 -  0.52\n",
            " 0.53 -  0.53\n",
            " 0.11 -  0.54\n",
            " 0.88 -  0.55\n",
            " 0.39 -  0.56\n",
            " 0.64 -  0.57\n",
            " 0.10 -  0.58\n",
            " 0.13 -  0.59\n",
            " 0.71 -  0.60\n",
            " 0.76 -  0.61\n",
            " 0.44 -  0.62\n",
            " 0.75 -  0.63\n",
            " 0.81 -  0.64\n",
            " 0.67 -  0.65\n",
            " 0.11 -  0.66\n",
            " 0.07 -  0.67\n",
            " 0.98 -  0.68\n",
            " 0.07 -  0.69\n",
            " 0.87 -  0.70\n",
            " 0.93 -  0.71\n",
            " 0.99 -  0.72\n",
            " 0.79 -  0.73\n",
            " 0.15 -  0.74\n",
            " 0.04 -  0.75\n",
            " 0.49 -  0.76\n",
            " 0.58 -  0.77\n",
            " 0.00 -  0.78\n",
            " 0.67 -  0.79\n",
            " 0.47 -  0.80\n",
            " 0.19 -  0.81\n",
            " 0.67 -  0.82\n",
            " 0.60 -  0.83\n",
            " 0.71 -  0.84\n",
            " 0.88 -  0.85\n",
            " 0.15 -  0.86\n",
            " 0.14 -  0.87\n",
            " 0.32 -  0.88\n",
            " 0.31 -  0.89\n",
            " 0.84 -  0.90\n",
            " 0.87 -  0.91\n",
            " 0.81 -  0.92\n",
            " 0.56 -  0.93\n",
            " 0.01 -  0.94\n",
            " 0.85 -  0.95\n",
            " 0.72 -  0.96\n",
            " 0.59 -  0.97\n",
            " 0.45 -  0.98\n",
            " 0.57 -  0.99\n",
            "n :   100\n",
            "D+:  0.94\n",
            "D-:  0.94\n",
            "D :  0.94\n"
          ]
        }
      ]
    }
  ]
}