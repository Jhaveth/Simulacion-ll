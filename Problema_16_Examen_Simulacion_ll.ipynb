{
  "nbformat": 4,
  "nbformat_minor": 0,
  "metadata": {
    "colab": {
      "provenance": [],
      "include_colab_link": true
    },
    "kernelspec": {
      "name": "python3",
      "display_name": "Python 3"
    },
    "language_info": {
      "name": "python"
    }
  },
  "cells": [
    {
      "cell_type": "markdown",
      "metadata": {
        "id": "view-in-github",
        "colab_type": "text"
      },
      "source": [
        "<a href=\"https://colab.research.google.com/github/Jhaveth/Simulacion-ll/blob/Examen/Problema_16_Examen_Simulacion_ll.ipynb\" target=\"_parent\"><img src=\"https://colab.research.google.com/assets/colab-badge.svg\" alt=\"Open In Colab\"/></a>"
      ]
    },
    {
      "cell_type": "markdown",
      "source": [
        "*Presenta: Jhaveth Ghaell Martínez Gonzalez*\n",
        "\n",
        "---\n",
        "\n",
        "# **PROBLEMA** **16**"
      ],
      "metadata": {
        "id": "fzJoukCOpITg"
      }
    },
    {
      "cell_type": "markdown",
      "source": [
        "Dos personas han quedado en una cita en un determinado lugar. Ambas tienen la misma probabilidad de llegar al lugar de la cita en el intervalo de tiempo [0, 30]. \n",
        "Determínese la probabilidad de que el tiempo que una persona espere a la otra sea como máximo 10. \n",
        "\n",
        "---\n"
      ],
      "metadata": {
        "id": "qs2HhGUS0biL"
      }
    },
    {
      "cell_type": "markdown",
      "source": [
        "---\n",
        "\n",
        "# **Solución Analitíca**"
      ],
      "metadata": {
        "id": "Syr1eoSkUj_Q"
      }
    },
    {
      "cell_type": "markdown",
      "source": [
        "El tiempo de espera tendrá una distribución uniforme en el intervalo [0, 30], ya que la otra persona puede llegar en cualquier momento dentro de ese intervalo.\n",
        "\n",
        "\n",
        "Dado que la probabilidad se puede expresar como un área bajo la curva de la distribución uniforme, tenemos que:"
      ],
      "metadata": {
        "id": "7Y9_CmaXVFsi"
      }
    },
    {
      "cell_type": "markdown",
      "source": [
        "Calculando la probabilidad respecto al gráfico que se obtiene de una distribución unifome con condición de máximo 10, tenemos que:  \n",
        "\n",
        "$P(J-K \\leq 10)=\\frac{Área\\ sombreada}{Área\\ total}=\\frac{500}{900}=\\frac{5}{9}$= $55.56$  \n",
        "\n",
        "Por lo tanto, se tiene que: la probabilidad de que el tiempo máximo de espera sea de 10 minutos, es del 55.56%.\n",
        "\n",
        "---"
      ],
      "metadata": {
        "id": "Ol3rXfO-VR2Z"
      }
    },
    {
      "cell_type": "markdown",
      "source": [
        "# **Iniciando la metodología**"
      ],
      "metadata": {
        "id": "rDH83CtHpFwt"
      }
    },
    {
      "cell_type": "markdown",
      "source": [
        "### **1. Identificaion de las variables**"
      ],
      "metadata": {
        "id": "ZI4teE95pXIM"
      }
    },
    {
      "cell_type": "markdown",
      "source": [
        "En este caso, tendremos 2 variables:\n",
        "\n",
        "Sea $p_1$=Tiempo de espera de la primera persona.  \n",
        "Sea $p_2$=Tiempo de espera de la segunda persona."
      ],
      "metadata": {
        "id": "j4vQQh8MlOLY"
      }
    },
    {
      "cell_type": "markdown",
      "source": [
        "### **2. Determinar la distribución de probabilidad**"
      ],
      "metadata": {
        "id": "StnMF7EtQhF5"
      }
    },
    {
      "cell_type": "markdown",
      "source": [
        "Se especifica que las dos personas tienen la misma probabilidad de llegar al lugar de la cita en el intervalo de tiempo [0, 30].\n",
        "\n",
        "Por lo tanto tenemos que:\n",
        "\n",
        "$p_1,  p_2∼U(0,30)$"
      ],
      "metadata": {
        "id": "znQH-u6HltaQ"
      }
    },
    {
      "cell_type": "markdown",
      "source": [
        "### **3. Modelo de las variables aleatorias**"
      ],
      "metadata": {
        "id": "ZuUm84PYi0Bm"
      }
    },
    {
      "cell_type": "markdown",
      "source": [
        "$p_1∼U(0,30)$  \n",
        "$p_2∼U(0,30)$"
      ],
      "metadata": {
        "id": "n54PrnhpmNGg"
      }
    },
    {
      "cell_type": "markdown",
      "source": [
        "### **4. Definicion del modelo del sistema y los objetivos de la simulación**"
      ],
      "metadata": {
        "id": "STptXEO4jQch"
      }
    },
    {
      "cell_type": "markdown",
      "source": [
        "El sistema en este caso es la cita entre dos personas en un determinado lugar\n",
        "\n",
        "Las variables del sistema son los tiempos de llegada de cada persona al lugar de la cita.\n",
        "\n",
        "Se asume que estos tiempos de llegada siguen una distribución uniforme en el intervalo [0, 30].  \n",
        "\n",
        "El objetivo de la simulación es obtener una estimación de la probabilidad de que el tiempo de espera sea como máximo 10 utilizando el modelo del sistema y generando múltiples escenarios de llegada de las dos personas."
      ],
      "metadata": {
        "id": "dN5e2wu4jWLv"
      }
    },
    {
      "cell_type": "code",
      "execution_count": 46,
      "metadata": {
        "id": "M8JER3-wGlAY"
      },
      "outputs": [],
      "source": [
        "import numpy as np\n",
        "import random \n",
        "import matplotlib.pyplot as plt "
      ]
    },
    {
      "cell_type": "code",
      "source": [
        "def llegada():\n",
        "  per1=0  #Variable de tiempo de persona1\n",
        "  per2=0  #Variable de tiempo de persona2\n",
        "  p1=random.randrange(0, 30, 1) #Generar tiempo de llegada de persona 1\n",
        "  p2=random.randrange(0, 30, 1) #Generar tiempo de llegada de persona 2\n",
        "  if p1<p2: #Determinar quien llega primero\n",
        "    per1=p1\n",
        "    per2=p2\n",
        "  else:\n",
        "    per1=p2\n",
        "    per2=p1\n",
        "  tes=per2-per1 #Calcular el tiempo de espera\n",
        "  return(tes) "
      ],
      "metadata": {
        "id": "7nA2ktSNQSlM"
      },
      "execution_count": 47,
      "outputs": []
    },
    {
      "cell_type": "code",
      "source": [
        "def simulacion(n):\n",
        "  tiempos=[] #lista de tiempos \n",
        "  reg=0 #contador de registros \n",
        "  for i in range(n):\n",
        "    if llegada()<=10: #Se verifica si el tiempo de espera es menor o igual a 10\n",
        "      reg=reg+1\n",
        "      tiempos.append(reg/(i+1)) \n",
        "  return(tiempos)"
      ],
      "metadata": {
        "id": "sQbsUxWYTNVA"
      },
      "execution_count": 48,
      "outputs": []
    },
    {
      "cell_type": "markdown",
      "source": [
        "###**5. Diseñe el experimento**"
      ],
      "metadata": {
        "id": "f1ERGBEGQh6w"
      }
    },
    {
      "cell_type": "code",
      "source": [
        "sim=simulacion(120) #hacemos una variable para las simulaciones"
      ],
      "metadata": {
        "id": "kcdtqeHAUV0O"
      },
      "execution_count": 49,
      "outputs": []
    },
    {
      "cell_type": "code",
      "source": [
        "plt.plot(sim, color=\"yellow\") #Gráfica de las simulaciones"
      ],
      "metadata": {
        "colab": {
          "base_uri": "https://localhost:8080/",
          "height": 448
        },
        "id": "bWJDSdlpIU7v",
        "outputId": "b72b66d0-5fae-4075-e280-25310a605b69"
      },
      "execution_count": 50,
      "outputs": [
        {
          "output_type": "execute_result",
          "data": {
            "text/plain": [
              "[<matplotlib.lines.Line2D at 0x7fa3fbff9630>]"
            ]
          },
          "metadata": {},
          "execution_count": 50
        },
        {
          "output_type": "display_data",
          "data": {
            "text/plain": [
              "<Figure size 640x480 with 1 Axes>"
            ],
            "image/png": "[encoded data removed]"
          },
          "metadata": {}
        }
      ]
    },
    {
      "cell_type": "code",
      "source": [
        "np.mean(sim) #Calculo de media de las simulaciones"
      ],
      "metadata": {
        "colab": {
          "base_uri": "https://localhost:8080/"
        },
        "id": "iM9LL53MNeEL",
        "outputId": "faff493c-28d9-404f-8291-df88fc648cc3"
      },
      "execution_count": 51,
      "outputs": [
        {
          "output_type": "execute_result",
          "data": {
            "text/plain": [
              "0.6304178222860123"
            ]
          },
          "metadata": {},
          "execution_count": 51
        }
      ]
    },
    {
      "cell_type": "code",
      "source": [
        "def modelo(n):\n",
        "    l=[]\n",
        "    for i in range(n):\n",
        "        s = simulacion(100)\n",
        "        l.append(np.mean(s)) \n",
        "    return l"
      ],
      "metadata": {
        "id": "mtHlbIJHNtsB"
      },
      "execution_count": 52,
      "outputs": []
    },
    {
      "cell_type": "markdown",
      "source": [
        "###**6. Repita el experimento $n$ veces**"
      ],
      "metadata": {
        "id": "v4UBdB6Uj3_l"
      }
    },
    {
      "cell_type": "code",
      "source": [
        "mod=modelo(50) #Repetir modelo un determinado número de veces más"
      ],
      "metadata": {
        "id": "09ID2m3IN5y0"
      },
      "execution_count": 53,
      "outputs": []
    },
    {
      "cell_type": "code",
      "source": [
        "print(np.mean(mod), np.std(mod))"
      ],
      "metadata": {
        "colab": {
          "base_uri": "https://localhost:8080/"
        },
        "id": "r1iQ8IRMxpVA",
        "outputId": "7982f865-dc97-4aad-d79e-3889d549c9c3"
      },
      "execution_count": 54,
      "outputs": [
        {
          "output_type": "stream",
          "name": "stdout",
          "text": [
            "0.5977942105600041 0.05422516733449264\n"
          ]
        }
      ]
    },
    {
      "cell_type": "code",
      "source": [
        "plt.hist(mod, color=\"red\") #Gráfica del histograma\n",
        "plt.show()"
      ],
      "metadata": {
        "colab": {
          "base_uri": "https://localhost:8080/",
          "height": 430
        },
        "id": "Rhd1MxgaOLPq",
        "outputId": "cb19dd5f-9835-4d81-9a8d-75280da7519a"
      },
      "execution_count": 55,
      "outputs": [
        {
          "output_type": "display_data",
          "data": {
            "text/plain": [
              "<Figure size 640x480 with 1 Axes>"
            ],
            "image/png": "[encoded data removed]"
          },
          "metadata": {}
        }
      ]
    },
    {
      "cell_type": "markdown",
      "source": [
        "###**7. Hallar el intervalo de confianza**"
      ],
      "metadata": {
        "id": "pKpbrxOfkmJ7"
      }
    },
    {
      "cell_type": "code",
      "source": [
        "int1= np.mean(mod)-(1.96)*(np.var(mod))/np.sqrt(50)\n",
        "int2= np.mean(mod)+(1.96)*(np.var(mod))/np.sqrt(50) \n",
        "\n",
        "print(\"El intervalo de confianza es: \",int1, \"<\",np.mean(mod),\"<\",int2)\n",
        "print(\"es decir, \")\n",
        "print(\"El intervalo de confianza es: \",\n",
        "np.mean(mod)-(1.96)*((np.var(mod))/np.sqrt(50)), \"≤ X̅ ≤\",\n",
        "np.mean(mod)+(1.96)*((np.var(mod))/np.sqrt(50)))\n",
        "\n",
        "\n"
      ],
      "metadata": {
        "colab": {
          "base_uri": "https://localhost:8080/"
        },
        "id": "os-w9W0ROmpd",
        "outputId": "2b82cb19-c87f-402c-9327-7359ed347408"
      },
      "execution_count": 56,
      "outputs": [
        {
          "output_type": "stream",
          "name": "stdout",
          "text": [
            "El intervalo de confianza es:  0.5969791819183132 < 0.5977942105600041 < 0.5986092392016951\n",
            "es decir, \n",
            "El intervalo de confianza es:  0.5969791819183132 ≤ X̅ ≤ 0.5986092392016951\n"
          ]
        }
      ]
    }
  ]
}